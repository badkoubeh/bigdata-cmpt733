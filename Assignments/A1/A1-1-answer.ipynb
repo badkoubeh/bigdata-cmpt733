{
  "nbformat": 4,
  "nbformat_minor": 0,
  "metadata": {
    "kernelspec": {
      "display_name": "Python 3",
      "language": "python",
      "name": "python3"
    },
    "language_info": {
      "codemirror_mode": {
        "name": "ipython",
        "version": 3
      },
      "file_extension": ".py",
      "mimetype": "text/x-python",
      "name": "python",
      "nbconvert_exporter": "python",
      "pygments_lexer": "ipython3",
      "version": "3.7.4"
    },
    "colab": {
      "name": "A1-1.ipynb",
      "provenance": []
    }
  },
  "cells": [
    {
      "cell_type": "markdown",
      "metadata": {
        "id": "wjuoTk08rqrt"
      },
      "source": [
        "# Assignment 1-1: Web Scraping"
      ]
    },
    {
      "cell_type": "markdown",
      "metadata": {
        "id": "X5jqCylQrqr2"
      },
      "source": [
        "## Objective"
      ]
    },
    {
      "cell_type": "markdown",
      "metadata": {
        "id": "pxb8UUE5rqr4"
      },
      "source": [
        "Data scientists often need to crawl data from websites and turn the crawled data (HTML pages) to structured data (tables). Thus, web scraping is an essential skill that every data scientist should master. In this assignment, you will learn the followings:\n",
        "\n",
        "\n",
        "* How to download HTML pages from a website?\n",
        "* How to extract relevant content from an HTML page? \n",
        "\n",
        "Furthermore, you will gain a deeper understanding of the data science lifecycle.\n",
        "\n",
        "**Requirements:**\n",
        "\n",
        "1. Please use [pandas.DataFrame](http://pandas.pydata.org/pandas-docs/stable/generated/pandas.DataFrame.html) rather than spark.DataFrame to manipulate data.\n",
        "\n",
        "2. Please use [BeautifulSoup](https://www.crummy.com/software/BeautifulSoup/) rather than [lxml](http://lxml.de/) to parse an HTML page and extract data from the page.\n",
        "\n",
        "3. Please follow the python code style (https://www.python.org/dev/peps/pep-0008/). If TA finds your code hard to read, you will lose points. This requirement will stay for the whole semester."
      ]
    },
    {
      "cell_type": "markdown",
      "metadata": {
        "id": "JIV6UQnWrqr4"
      },
      "source": [
        "## Preliminary"
      ]
    },
    {
      "cell_type": "markdown",
      "metadata": {
        "id": "C21Ue6HTrqr5"
      },
      "source": [
        "If this is your first time to write a web scraper, you need to learn some basic knowledge of this topic. I found that this is a good resource: [Tutorial: Web Scraping and BeautifulSoup](https://www.dataquest.io/blog/web-scraping-beautifulsoup/). \n",
        "\n",
        "Please let me know if you find a better resource. I'll share it with the other students."
      ]
    },
    {
      "cell_type": "markdown",
      "metadata": {
        "id": "DSn2r25grqr5"
      },
      "source": [
        "## Overview"
      ]
    },
    {
      "cell_type": "markdown",
      "metadata": {
        "id": "EI9K4IRCrqr6"
      },
      "source": [
        "Imagine you are a data scientist working at SFU. Your job is to extract insights from SFU data to answer questions. \n",
        "\n",
        "In this assignment, you will do two tasks. Please recall the high-level data science lifecycle below. I suggest that when doing this assignment, please remind yourself of what data you collected and what questions you tried to answer.\n",
        "\n",
        "\n",
        "<img src=\"https://github.com/badkoubeh/bigdata-cmpt733/blob/master/Assignments/A1/lifecycle.png?raw=1\" width=\"500\">\n",
        "<center><h4>Figure 1. Data Science Lifecycle</h4></center>"
      ]
    },
    {
      "cell_type": "markdown",
      "metadata": {
        "id": "gCdkvZVurqr6"
      },
      "source": [
        "## Task 1: SFU CS Faculty Members"
      ]
    },
    {
      "cell_type": "markdown",
      "metadata": {
        "id": "v_6ZdiXnrqr6"
      },
      "source": [
        "Sometimes you don't know what questions to ask. No worries. Start collecting data first. \n",
        "\n",
        "In Task 1, your job is to write a web scraper to extract the faculty information from this page: [https://www.sfu.ca/computing/people/faculty.html](https://www.sfu.ca/computing/people/faculty.html).\n",
        "\n",
        "\n"
      ]
    },
    {
      "cell_type": "markdown",
      "metadata": {
        "id": "hilPhLZcrqr7"
      },
      "source": [
        "### (a) Crawl Web Page"
      ]
    },
    {
      "cell_type": "markdown",
      "metadata": {
        "id": "M_6LKkqerqr7"
      },
      "source": [
        "A web page is essentially a file stored in a remote machine (called web server). Please write code to download the HTML page and save it as a text file (\"csfaculty.html\")."
      ]
    },
    {
      "cell_type": "code",
      "metadata": {
        "id": "n2NvayZ4rqr8"
      },
      "source": [
        "# write your code"
      ],
      "execution_count": null,
      "outputs": []
    },
    {
      "cell_type": "markdown",
      "metadata": {
        "id": "o9fwnj92rqr8"
      },
      "source": [
        "### (b) Extract Structured Data"
      ]
    },
    {
      "cell_type": "markdown",
      "metadata": {
        "id": "ctGoYuDGrqr9"
      },
      "source": [
        "Please write code to extract relevant content (name, rank, area, profile, homepage) from \"csfaculty.html\" and save them as a CSV file (like [faculty_table.csv](./faculty_table.csv)). "
      ]
    },
    {
      "cell_type": "code",
      "metadata": {
        "id": "bRLZs0bPrqr9"
      },
      "source": [
        "# write your code"
      ],
      "execution_count": null,
      "outputs": []
    },
    {
      "cell_type": "markdown",
      "metadata": {
        "id": "aeFsmy-urqr9"
      },
      "source": [
        "### (c) Interesting Finding"
      ]
    },
    {
      "cell_type": "markdown",
      "metadata": {
        "id": "P0LYfg5Wrqr-"
      },
      "source": [
        "Note that you don't need to do anything for Task 1(c). The purpose of this part is to give you some sense about how to leverage exploratory data analysis (EDA) to come up with interesting questions about the data. EDA is an important topic in data science; you will  learn it soon from this course. \n",
        "\n",
        "\n",
        "First, please install [dataprep](http://dataprep.ai).\n",
        "Then, run the cell below. \n",
        "It shows a bar chart for every column. What interesting findings can you get from these visualizations? "
      ]
    },
    {
      "cell_type": "code",
      "metadata": {
        "id": "HxKjgCuPrqr_"
      },
      "source": [
        "from dataprep.eda import plot\n",
        "import pandas as pd\n",
        "\n",
        "df = pd.read_csv(\"faculty_table.csv\")\n",
        "plot(df)"
      ],
      "execution_count": null,
      "outputs": []
    },
    {
      "cell_type": "markdown",
      "metadata": {
        "id": "mQOttO5Orqr_"
      },
      "source": [
        "Below are some examples:\n",
        "\n",
        "**Finding 1:** Professor# (26) is more than 2x larger than Associate Professor# (10). \n",
        "\n",
        "**Questions:** Why did it happen? Is it common in all CS schools in Canada? Will the gap go larger or smaller in five years? What actions can be taken to enlarge/shrink the gap?\n",
        "\n",
        "\n",
        "**Finding 2:** The Homepage has 23% missing values. \n",
        "\n",
        "**Questions:** Why are there so many missing values? Is it because many faculty do not have their own homepages or do not add their homepages to the school page? What actions can be taken to avoid this to happen in the future? "
      ]
    },
    {
      "cell_type": "markdown",
      "metadata": {
        "id": "LXasP9TkrqsA"
      },
      "source": [
        "## Task 2: Age Follows Normal Distribution?"
      ]
    },
    {
      "cell_type": "markdown",
      "metadata": {
        "id": "U5acUKOPrqsA"
      },
      "source": [
        "In this task, you start with a question and then figure out what data to collect.\n",
        "\n",
        "The question that you are interested in is `Does SFU CS faculty age follow a normal distribution?`\n",
        "\n",
        "To estimate the age of a faculty member, you can collect the year in which s/he graduates from a university (`gradyear`) and then estimate `age` using the following equation:\n",
        "\n",
        "$$age \\approx 2021+23 - gradyear$$\n",
        "\n",
        "For example, if one graduates from a university in 1990, then the age is estimated as 2021+23-1990 = 54. \n",
        "\n"
      ]
    },
    {
      "cell_type": "markdown",
      "metadata": {
        "id": "HyKwW9lArqsB"
      },
      "source": [
        "### (a) Crawl Web Page"
      ]
    },
    {
      "cell_type": "markdown",
      "metadata": {
        "id": "7tB_dcNIrqsB"
      },
      "source": [
        "You notice that faculty profile pages contain graduation information. For example, you can see that Dr. Jiannan Wang graduated from Harbin Institute of Technology in 2008 at [http://www.sfu.ca/computing/people/faculty/jiannanwang.html](http://www.sfu.ca/computing/people/faculty/jiannanwang.html). \n",
        "\n",
        "\n",
        "Please write code to download the 65 profile pages and save each page as a text file. "
      ]
    },
    {
      "cell_type": "code",
      "metadata": {
        "id": "Fa71r1psrqsC"
      },
      "source": [
        "# Write your code"
      ],
      "execution_count": null,
      "outputs": []
    },
    {
      "cell_type": "markdown",
      "metadata": {
        "id": "l9H-CxnxrqsC"
      },
      "source": [
        "### (b) Extract Structured Data"
      ]
    },
    {
      "cell_type": "markdown",
      "metadata": {
        "id": "DEOKA_mBrqsC"
      },
      "source": [
        "Please write code to extract the earliest graduation year (e.g., 2008 for Dr. Jiannan Wang) from each profile page, and create a csv file like [faculty_grad_year.csv](./faculty_grad_year.csv). "
      ]
    },
    {
      "cell_type": "code",
      "metadata": {
        "id": "IZ9UNEGqrqsD"
      },
      "source": [
        "# write your code here"
      ],
      "execution_count": null,
      "outputs": []
    },
    {
      "cell_type": "markdown",
      "metadata": {
        "id": "UEfwTsuQrqsD"
      },
      "source": [
        "### (c) Interesting Finding"
      ]
    },
    {
      "cell_type": "markdown",
      "metadata": {
        "id": "pv2EXZkprqsD"
      },
      "source": [
        "Similar to Task 1(c), you don't need to do anything here. Just look at different visualizations w.r.t. age and give yourself an answer to the question: `Does SFU CS faculty age follow a normal distribution?`"
      ]
    },
    {
      "cell_type": "code",
      "metadata": {
        "scrolled": true,
        "id": "BFlyYugdrqsD"
      },
      "source": [
        "from dataprep.eda import plot\n",
        "import pandas as pd\n",
        "\n",
        "df = pd.read_csv(\"faculty_grad_year.csv\")\n",
        "df[\"age\"] = 2021+23-df[\"gradyear\"]\n",
        "\n",
        "plot(df, \"age\")"
      ],
      "execution_count": null,
      "outputs": []
    },
    {
      "cell_type": "markdown",
      "metadata": {
        "id": "_ssTFqZ7rqsE"
      },
      "source": [
        "## Submission"
      ]
    },
    {
      "cell_type": "markdown",
      "metadata": {
        "id": "L9gen848rqsE"
      },
      "source": [
        "Complete the code in this notebook, and submit it to the CourSys activity `Assignment 1`."
      ]
    },
    {
      "cell_type": "markdown",
      "metadata": {
        "id": "Evsb7Wm1rqsE"
      },
      "source": [
        "## Bonus: Contribute to DataPrep"
      ]
    },
    {
      "cell_type": "markdown",
      "metadata": {
        "id": "wtRFA31ArqsF"
      },
      "source": [
        "**Total Bonus: 0.2 + 0.3 = 0.5**\n",
        "\n",
        "1. If you create an issue (i.e., report a bug or request a feature) at [link1](https://github.com/sfu-db/dataprep/issues), you will get **0.2** bonus points.\n",
        "\n",
        "2.  Creating more issues will *not* give you more bonus points, but you are encouraged to do so for learning more.\n",
        "\n",
        "2. If you send a pull request (i.e., fix a bug or implement a feature) at [link1](https://github.com/sfu-db/dataprep/pulls) and the pull request gets merged into the repo, you will get **0.3** bonus points. \n",
        "\n",
        "4.  Sending more pull requests will *not* give you more bonus points, but you are encouraged to do so for learning more.\n",
        "\n",
        "5. These bonus points will be directly added to your final grade.\n",
        "\n",
        "\n",
        "\n",
        "\n",
        "\n",
        "\n",
        "**How to Submit**\n",
        "* Submit github link(s) to the CourSys activity `Bonus`.\n",
        "* Due on `March 14, 2021`\n",
        "\n",
        "If you love dataprep, please support it by simply clicking the **<span style=\"color:red\">Star</span>** on [Github](https://github.com/sfu-db/dataprep).\n",
        "<img src=\"https://github.com/badkoubeh/bigdata-cmpt733/blob/master/Assignments/A1/dataprep-star-2021.png?raw=1\" width=\"1000\">"
      ]
    }
  ]
}